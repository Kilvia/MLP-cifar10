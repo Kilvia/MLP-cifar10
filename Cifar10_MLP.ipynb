{
  "nbformat": 4,
  "nbformat_minor": 0,
  "metadata": {
    "colab": {
      "provenance": [],
      "authorship_tag": "ABX9TyOERsI0eoFittnajO3w5I1t",
      "include_colab_link": true
    },
    "kernelspec": {
      "name": "python3",
      "display_name": "Python 3"
    },
    "language_info": {
      "name": "python"
    }
  },
  "cells": [
    {
      "cell_type": "markdown",
      "metadata": {
        "id": "view-in-github",
        "colab_type": "text"
      },
      "source": [
        "<a href=\"https://colab.research.google.com/github/Kilvia/MLP-cifar10/blob/main/Cifar20_MLP.ipynb\" target=\"_parent\"><img src=\"https://colab.research.google.com/assets/colab-badge.svg\" alt=\"Open In Colab\"/></a>"
      ]
    },
    {
      "cell_type": "markdown",
      "source": [
        "## Import modules"
      ],
      "metadata": {
        "id": "f8gDp10Nkjpn"
      }
    },
    {
      "cell_type": "code",
      "execution_count": 3,
      "metadata": {
        "id": "-v-WY908kPtv"
      },
      "outputs": [],
      "source": [
        "import tensorflow as tf\n",
        "# Split train set into train/valid set\n",
        "from sklearn import model_selection\n",
        "import matplotlib.pyplot as plt"
      ]
    },
    {
      "cell_type": "markdown",
      "source": [
        "## Load Database"
      ],
      "metadata": {
        "id": "oP0fw9Ehks9Y"
      }
    },
    {
      "cell_type": "code",
      "source": [
        "cifar = tf.keras.datasets.cifar10\n",
        "\n",
        "# Load data and split into test and train\n",
        "(x_train, y_train), (x_test, y_test) = cifar.load_data()\n",
        "\n",
        "x_train, x_valid,  y_train, y_valid = model_selection.train_test_split(x_train, y_train, test_size=0.2)\n",
        "\n",
        "# Rescale data to be in the range of [0, 1]\n",
        "x_train, x_valid, x_test = x_train / 255.0, x_valid / 255.0, x_test / 255.0\n",
        "\n",
        "class_names = ['airplane', 'automobile', 'bird', 'cat', 'deer',\n",
        "               'dog', 'frog', 'horse', 'ship', 'truck']\n",
        "\n"
      ],
      "metadata": {
        "id": "cr-a5eFrL_jc"
      },
      "execution_count": 4,
      "outputs": []
    },
    {
      "cell_type": "markdown",
      "source": [
        "## Check the Dataset"
      ],
      "metadata": {
        "id": "_jQmWrNaljkM"
      }
    },
    {
      "cell_type": "code",
      "source": [
        "plt.figure()\n",
        "plt.imshow(x_train[0])\n",
        "plt.colorbar()\n",
        "plt.grid(False)\n",
        "plt.show()"
      ],
      "metadata": {
        "colab": {
          "base_uri": "https://localhost:8080/",
          "height": 269
        },
        "id": "VRiz46xkmB_i",
        "outputId": "87579996-91da-457f-bc81-895c3bc6ed41"
      },
      "execution_count": 5,
      "outputs": [
        {
          "output_type": "display_data",
          "data": {
            "text/plain": [
              "<Figure size 432x288 with 2 Axes>"
            ],
            "image/png": "[encoded data removed]"
          },
          "metadata": {
            "needs_background": "light"
          }
        }
      ]
    },
    {
      "cell_type": "markdown",
      "source": [
        "## Model Configuration"
      ],
      "metadata": {
        "id": "-L7qKKWkmTnL"
      }
    },
    {
      "cell_type": "code",
      "source": [
        "#print(x_train.shape[1:])\n",
        "model = tf.keras.models.Sequential([\n",
        "    tf.keras.layers.Flatten(input_shape=(32,32, 3)),\n",
        "    tf.keras.layers.Dense(150, activation='relu'),\n",
        "    tf.keras.layers.Dense(125, activation='relu'),\n",
        "    tf.keras.layers.Dense(100, activation='relu'),\n",
        "    tf.keras.layers.Dense(25, activation='softplus'),\n",
        "    tf.keras.layers.Dropout(0.20),\n",
        "    tf.keras.layers.Dense(10, activation='softmax')\n",
        "])"
      ],
      "metadata": {
        "id": "MP0Vc3X0mWZz"
      },
      "execution_count": 77,
      "outputs": []
    },
    {
      "cell_type": "markdown",
      "source": [
        "## Loss, Optimizer, Metrics"
      ],
      "metadata": {
        "id": "nW_7vdAqoDGl"
      }
    },
    {
      "cell_type": "code",
      "source": [
        "loss = tf.keras.losses.SparseCategoricalCrossentropy()\n",
        "optim = tf.keras.optimizers.Adam(learning_rate=0.001)"
      ],
      "metadata": {
        "id": "DOeysI_SoGzk"
      },
      "execution_count": 78,
      "outputs": []
    },
    {
      "cell_type": "code",
      "source": [
        "model.compile(optimizer=optim, loss=loss, metrics=['accuracy'])\n",
        "model.summary()"
      ],
      "metadata": {
        "colab": {
          "base_uri": "https://localhost:8080/"
        },
        "id": "ABM9z7z0oSzS",
        "outputId": "881698ad-8771-49b6-9516-2101599e8187"
      },
      "execution_count": 79,
      "outputs": [
        {
          "output_type": "stream",
          "name": "stdout",
          "text": [
            "Model: \"sequential_15\"\n",
            "_________________________________________________________________\n",
            " Layer (type)                Output Shape              Param #   \n",
            "=================================================================\n",
            " flatten_15 (Flatten)        (None, 3072)              0         \n",
            "                                                                 \n",
            " dense_47 (Dense)            (None, 150)               460950    \n",
            "                                                                 \n",
            " dense_48 (Dense)            (None, 125)               18875     \n",
            "                                                                 \n",
            " dense_49 (Dense)            (None, 100)               12600     \n",
            "                                                                 \n",
            " dense_50 (Dense)            (None, 25)                2525      \n",
            "                                                                 \n",
            " dropout_15 (Dropout)        (None, 25)                0         \n",
            "                                                                 \n",
            " dense_51 (Dense)            (None, 10)                260       \n",
            "                                                                 \n",
            "=================================================================\n",
            "Total params: 495,210\n",
            "Trainable params: 495,210\n",
            "Non-trainable params: 0\n",
            "_________________________________________________________________\n"
          ]
        }
      ]
    },
    {
      "cell_type": "markdown",
      "source": [
        "## Training"
      ],
      "metadata": {
        "id": "4-_kl2j1ofMh"
      }
    },
    {
      "cell_type": "code",
      "source": [
        "hist = model.fit(x_train, y_train, epochs=10, validation_data=(x_valid, y_valid))"
      ],
      "metadata": {
        "colab": {
          "base_uri": "https://localhost:8080/"
        },
        "id": "4nduJ1idogbt",
        "outputId": "f6e3d1d5-265e-467e-d099-751a3bb1d183"
      },
      "execution_count": 80,
      "outputs": [
        {
          "output_type": "stream",
          "name": "stdout",
          "text": [
            "Epoch 1/10\n",
            "1250/1250 [==============================] - 9s 7ms/step - loss: 2.0071 - accuracy: 0.2538 - val_loss: 1.8054 - val_accuracy: 0.3439\n",
            "Epoch 2/10\n",
            "1250/1250 [==============================] - 9s 7ms/step - loss: 1.7990 - accuracy: 0.3500 - val_loss: 1.7256 - val_accuracy: 0.3816\n",
            "Epoch 3/10\n",
            "1250/1250 [==============================] - 8s 6ms/step - loss: 1.7107 - accuracy: 0.3898 - val_loss: 1.6673 - val_accuracy: 0.3943\n",
            "Epoch 4/10\n",
            "1250/1250 [==============================] - 8s 6ms/step - loss: 1.6554 - accuracy: 0.4120 - val_loss: 1.6205 - val_accuracy: 0.4192\n",
            "Epoch 5/10\n",
            "1250/1250 [==============================] - 8s 6ms/step - loss: 1.6216 - accuracy: 0.4245 - val_loss: 1.6001 - val_accuracy: 0.4236\n",
            "Epoch 6/10\n",
            "1250/1250 [==============================] - 8s 6ms/step - loss: 1.5806 - accuracy: 0.4380 - val_loss: 1.5618 - val_accuracy: 0.4409\n",
            "Epoch 7/10\n",
            "1250/1250 [==============================] - 8s 6ms/step - loss: 1.5627 - accuracy: 0.4438 - val_loss: 1.6036 - val_accuracy: 0.4203\n",
            "Epoch 8/10\n",
            "1250/1250 [==============================] - 8s 7ms/step - loss: 1.5362 - accuracy: 0.4525 - val_loss: 1.5614 - val_accuracy: 0.4326\n",
            "Epoch 9/10\n",
            "1250/1250 [==============================] - 8s 6ms/step - loss: 1.5232 - accuracy: 0.4584 - val_loss: 1.5404 - val_accuracy: 0.4494\n",
            "Epoch 10/10\n",
            "1250/1250 [==============================] - 8s 6ms/step - loss: 1.4994 - accuracy: 0.4685 - val_loss: 1.5100 - val_accuracy: 0.4563\n"
          ]
        }
      ]
    },
    {
      "cell_type": "markdown",
      "source": [
        "## Check Results"
      ],
      "metadata": {
        "id": "_ziWGtoKrZ8O"
      }
    },
    {
      "cell_type": "code",
      "source": [
        "# Training accuracy and validation accuracy\n",
        "acc = hist.history['accuracy']\n",
        "val_acc = hist.history['val_accuracy']\n",
        "\n",
        "# Training loss and validation loss\n",
        "loss = hist.history['loss']\n",
        "val_loss = hist.history['val_loss']\n",
        "\n",
        "# Make a graph to see the results\n",
        "# Accuracy\n",
        "plt.figure(figsize=(8, 8))\n",
        "plt.subplot(2, 1, 1)\n",
        "plt.plot(acc, label='Training Accuracy')\n",
        "plt.plot(val_acc, label='Validation Accuracy')\n",
        "plt.legend(loc='lower right')\n",
        "plt.ylabel('Accuracy')\n",
        "plt.ylim([min(plt.ylim()), 1])\n",
        "plt.title('Training and Validation Accuracy')\n",
        "\n",
        "# Loss\n",
        "plt.subplot(2, 1, 2)\n",
        "plt.plot(loss, label='Training Loss')\n",
        "plt.plot(val_loss, label='Validation Loss')\n",
        "plt.legend(loc='upper right')\n",
        "plt.ylabel('Cross Entropy')\n",
        "plt.ylim([0, 3.0])\n",
        "plt.title('Training and Validation Loss')\n",
        "plt.xlabel('epoch')\n",
        "\n",
        "# Show the 2 graphs\n",
        "plt.show()"
      ],
      "metadata": {
        "colab": {
          "base_uri": "https://localhost:8080/",
          "height": 513
        },
        "id": "NOl2XDjYrcOe",
        "outputId": "b1571cfa-ae41-423d-aa70-bdae4f5eeb06"
      },
      "execution_count": 81,
      "outputs": [
        {
          "output_type": "display_data",
          "data": {
            "text/plain": [
              "<Figure size 576x576 with 2 Axes>"
            ],
            "image/png": "[encoded data removed]"
          },
          "metadata": {
            "needs_background": "light"
          }
        }
      ]
    },
    {
      "cell_type": "code",
      "source": [
        "model.evaluate(x_test, y_test, verbose=2)"
      ],
      "metadata": {
        "colab": {
          "base_uri": "https://localhost:8080/"
        },
        "id": "OTxnyZZHsTmi",
        "outputId": "285540d4-fda3-41e0-ccde-a80aa319009b"
      },
      "execution_count": 82,
      "outputs": [
        {
          "output_type": "stream",
          "name": "stdout",
          "text": [
            "313/313 - 1s - loss: 1.5113 - accuracy: 0.4636 - 543ms/epoch - 2ms/step\n"
          ]
        },
        {
          "output_type": "execute_result",
          "data": {
            "text/plain": [
              "[1.5112738609313965, 0.4636000096797943]"
            ]
          },
          "metadata": {},
          "execution_count": 82
        }
      ]
    },
    {
      "cell_type": "code",
      "source": [
        "predictions = model.predict(x_test)"
      ],
      "metadata": {
        "colab": {
          "base_uri": "https://localhost:8080/"
        },
        "id": "yRUm5EU4scwZ",
        "outputId": "9200ae53-ea83-45bc-f9a4-4a04ec637242"
      },
      "execution_count": 83,
      "outputs": [
        {
          "output_type": "stream",
          "name": "stdout",
          "text": [
            "313/313 [==============================] - 1s 2ms/step\n"
          ]
        }
      ]
    }
  ]
}
